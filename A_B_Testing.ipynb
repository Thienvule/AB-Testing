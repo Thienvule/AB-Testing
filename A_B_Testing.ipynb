{
  "cells": [
    {
      "cell_type": "markdown",
      "id": "35831dd8-db35-459c-a458-b60f8ac403ee",
      "metadata": {
        "id": "35831dd8-db35-459c-a458-b60f8ac403ee"
      },
      "source": [
        "# Project 1: A/B Testing\n",
        "\n",
        "Ecommerce business offer a group of whitelist customers a special promotion for the membership subscription, and they have 2 type of screens: (an original price of package is 199k)\n",
        "\n",
        "Screen A: show a discounted price of paid package (99k)\n",
        "Screen B: show a discount amount in price (discount 100k)\n",
        "\n",
        "Tasks to be done:\n",
        "1.\tDesign Ab testing experiment for this case. What can be the external factors in this AB testing? How can we monitor these factors?\n",
        "2.\tThe data was collected as an attached file.\n",
        "Assuming that the ab testing experiment was conducted in the perfect circumstances, use hypothesis testing to prove the results is significant\n",
        "\n",
        "\n",
        "Dataset:\n",
        "\n",
        "customer_id: unique id of each users\n",
        "\n",
        "group: group1: show screenA | group2: show screenB\n",
        "\n",
        "is_buy: whether that user buy the subscription or not"
      ]
    },
    {
      "cell_type": "markdown",
      "id": "19184ef3-c1c8-46be-bc77-f894811fbf15",
      "metadata": {
        "id": "19184ef3-c1c8-46be-bc77-f894811fbf15"
      },
      "source": [
        "## A/B Experiment Design"
      ]
    },
    {
      "cell_type": "markdown",
      "id": "e4bfb1cb-0274-4303-90dd-77e11b0fbd3a",
      "metadata": {
        "id": "e4bfb1cb-0274-4303-90dd-77e11b0fbd3a"
      },
      "source": [
        "### Define goal\n",
        "The goal of this A/B test is to determine which screen design - Screen A (discounted price) or Screen B (discount amount) - is more effective at driving conversions for the whitelist customers on the membership subscription offering."
      ]
    },
    {
      "cell_type": "markdown",
      "id": "901c483b-a2ae-4c17-afda-dde84ecf04a8",
      "metadata": {
        "id": "901c483b-a2ae-4c17-afda-dde84ecf04a8"
      },
      "source": [
        "### Define variables to test\n",
        "- Independent Variable: Screen design (Screen A vs. Screen B)\n",
        "\n",
        "- Dependent Variable: Conversion rate on the membership subscription purchase"
      ]
    },
    {
      "cell_type": "markdown",
      "id": "6620b848-e35e-422d-b3c5-fdaf27fad569",
      "metadata": {
        "id": "6620b848-e35e-422d-b3c5-fdaf27fad569"
      },
      "source": [
        "### Create Variants\n",
        "- Variant A: Screen showing the discounted price of 99k\n",
        "\n",
        "- Variant B: Screen showing the discount amount of 100k"
      ]
    },
    {
      "cell_type": "markdown",
      "id": "5dcb4e06-1e3d-4c8f-b0eb-f9e9987a6740",
      "metadata": {
        "id": "5dcb4e06-1e3d-4c8f-b0eb-f9e9987a6740"
      },
      "source": [
        "### Split Audience\n",
        "Randomly split the whitelist customer audience into two equal groups:\n",
        "\n",
        "- Group 1 will be shown Variant A (discounted price)\n",
        "\n",
        "- Group 2 will be shown Variant B (discount amount)"
      ]
    },
    {
      "cell_type": "markdown",
      "id": "605b6709-8f7c-4c7e-acc3-6badaccc6a03",
      "metadata": {
        "id": "605b6709-8f7c-4c7e-acc3-6badaccc6a03"
      },
      "source": [
        "### External Impacts\n",
        "#### Competitor Promotions:\n",
        "If competitors in the ecommerce space are running their own promotions or discounts during the test period, it could influence the whitelist customers' purchasing decisions. This could make one screen design perform better than the other, not necessarily due to the screen design itself.\n",
        "\n",
        "To mitigate: Carefully monitor the test environment and track any changes in the market or competitive landscape\n",
        "\n",
        "To monitor:\n",
        "- Regularly monitor competitor websites and marketing channels for any promotional activities related to similar membership subscriptions.\n",
        "- Set up alerts or run weekly/monthly competitive analysis reports to stay informed.\n",
        "\n",
        "\n",
        "#### Marketing campaigns\n",
        "Any concurrent marketing campaigns, emails, or other promotional activities could interact with the screen designs and impact the test results.\n",
        "\n",
        "To mitigate: Ensure there are no other major marketing or promotional activities happening concurrently.\n",
        "\n",
        "To monitor:\n",
        "- Closely track all marketing activities (emails, social posts, etc.) happening during the A/B test period.\n",
        "- Maintain a calendar of marketing campaigns and promotions to identify any potential confounding factors.\n",
        "- Analyze marketing attribution data to understand the impact of concurrent campaigns on the test results.\n",
        "\n",
        "#### Seasonality\n",
        "The time of year or season could impact customer purchasing behavior and willingness to subscribe, independent of the screen design.\n",
        "\n",
        "To mitigate: Consider running the test over a longer duration to account for seasonal fluctuations\n",
        "\n",
        "To monitor:\n",
        "- Track historical sales data and conversion rates for the membership subscription over the past 12-24 months to identify seasonal trends.\n",
        "- Double check the seasonaility index to estimate the expected performance of the to-do test.\n"
      ]
    },
    {
      "cell_type": "markdown",
      "id": "50a9d70d-66e8-4e9b-bc04-234b07dc9ece",
      "metadata": {
        "id": "50a9d70d-66e8-4e9b-bc04-234b07dc9ece"
      },
      "source": [
        "### Conducting the Test\n",
        "To see if Screen A would convert better than Screen B, I would use a one-sided Chi-Square test:\n",
        "\n",
        "- Null Hypothesis (H0): The conversion rate for Screen A is less than or equal to the conversion rate for Screen B.\n",
        "\n",
        "- Alternative Hypothesis (H1): The conversion rate for Screen A is greater than the conversion rate for Screen B.\n"
      ]
    },
    {
      "cell_type": "code",
      "execution_count": null,
      "id": "a42ac204-2641-4293-856e-3e8c46dc8c05",
      "metadata": {
        "id": "a42ac204-2641-4293-856e-3e8c46dc8c05"
      },
      "outputs": [],
      "source": [
        "import pandas as pd"
      ]
    },
    {
      "cell_type": "code",
      "execution_count": null,
      "id": "91d62e89-5ccc-4140-bad2-b7714ead8198",
      "metadata": {
        "id": "91d62e89-5ccc-4140-bad2-b7714ead8198"
      },
      "outputs": [],
      "source": [
        "df=pd.read_csv('abtesting-dataset.csv')"
      ]
    },
    {
      "cell_type": "code",
      "execution_count": null,
      "id": "8c292319-53cd-4003-a3c8-033cb27a4ead",
      "metadata": {
        "id": "8c292319-53cd-4003-a3c8-033cb27a4ead",
        "outputId": "0eb3c07e-db27-473c-921c-3dae95779859"
      },
      "outputs": [
        {
          "data": {
            "text/html": [
              "<div>\n",
              "<style scoped>\n",
              "    .dataframe tbody tr th:only-of-type {\n",
              "        vertical-align: middle;\n",
              "    }\n",
              "\n",
              "    .dataframe tbody tr th {\n",
              "        vertical-align: top;\n",
              "    }\n",
              "\n",
              "    .dataframe thead th {\n",
              "        text-align: right;\n",
              "    }\n",
              "</style>\n",
              "<table border=\"1\" class=\"dataframe\">\n",
              "  <thead>\n",
              "    <tr style=\"text-align: right;\">\n",
              "      <th></th>\n",
              "      <th>Unnamed: 0</th>\n",
              "      <th>customer_id</th>\n",
              "      <th>group</th>\n",
              "      <th>is_buy</th>\n",
              "    </tr>\n",
              "  </thead>\n",
              "  <tbody>\n",
              "    <tr>\n",
              "      <th>0</th>\n",
              "      <td>0</td>\n",
              "      <td>21393799</td>\n",
              "      <td>2</td>\n",
              "      <td>0</td>\n",
              "    </tr>\n",
              "    <tr>\n",
              "      <th>1</th>\n",
              "      <td>1</td>\n",
              "      <td>20349278</td>\n",
              "      <td>2</td>\n",
              "      <td>0</td>\n",
              "    </tr>\n",
              "    <tr>\n",
              "      <th>2</th>\n",
              "      <td>2</td>\n",
              "      <td>11655915</td>\n",
              "      <td>2</td>\n",
              "      <td>0</td>\n",
              "    </tr>\n",
              "    <tr>\n",
              "      <th>3</th>\n",
              "      <td>3</td>\n",
              "      <td>18516581</td>\n",
              "      <td>2</td>\n",
              "      <td>0</td>\n",
              "    </tr>\n",
              "    <tr>\n",
              "      <th>4</th>\n",
              "      <td>4</td>\n",
              "      <td>7805171</td>\n",
              "      <td>2</td>\n",
              "      <td>0</td>\n",
              "    </tr>\n",
              "  </tbody>\n",
              "</table>\n",
              "</div>"
            ],
            "text/plain": [
              "   Unnamed: 0  customer_id  group  is_buy\n",
              "0           0     21393799      2       0\n",
              "1           1     20349278      2       0\n",
              "2           2     11655915      2       0\n",
              "3           3     18516581      2       0\n",
              "4           4      7805171      2       0"
            ]
          },
          "execution_count": 4,
          "metadata": {},
          "output_type": "execute_result"
        }
      ],
      "source": [
        "df.head()"
      ]
    },
    {
      "cell_type": "code",
      "execution_count": null,
      "id": "6abc358c-42b8-4711-975d-58f614c6332b",
      "metadata": {
        "id": "6abc358c-42b8-4711-975d-58f614c6332b"
      },
      "outputs": [],
      "source": [
        "from scipy.stats import chi2_contingency"
      ]
    },
    {
      "cell_type": "code",
      "execution_count": null,
      "id": "69a3864b-c662-49f4-9e10-eab833e394cf",
      "metadata": {
        "id": "69a3864b-c662-49f4-9e10-eab833e394cf"
      },
      "outputs": [],
      "source": [
        "from scipy.stats import chi2"
      ]
    },
    {
      "cell_type": "code",
      "execution_count": null,
      "id": "65d92268-0b6b-43dd-9654-34accdb1f2fc",
      "metadata": {
        "id": "65d92268-0b6b-43dd-9654-34accdb1f2fc"
      },
      "outputs": [],
      "source": [
        "import numpy as np"
      ]
    },
    {
      "cell_type": "code",
      "execution_count": null,
      "id": "6e6a9cb2-b853-407d-9812-968b35781891",
      "metadata": {
        "id": "6e6a9cb2-b853-407d-9812-968b35781891"
      },
      "outputs": [],
      "source": [
        "# 2. Create the contingency table\n",
        "group1 = df[df['group'] == 1] # Screen A group\n",
        "group2 = df[df['group'] == 2] # Screen B group"
      ]
    },
    {
      "cell_type": "code",
      "execution_count": null,
      "id": "b9a6a02a-0db2-4ca4-adff-2f6d6d672a5d",
      "metadata": {
        "id": "b9a6a02a-0db2-4ca4-adff-2f6d6d672a5d"
      },
      "outputs": [],
      "source": [
        "group1_converted = group1.loc[group1['is_buy'] == 1]['is_buy'].count()\n",
        "group1_non_converted = group1.loc[group1['is_buy'] == 0]['is_buy'].count()\n",
        "\n",
        "group2_converted = group2.loc[group2['is_buy'] == 1]['is_buy'].count()\n",
        "group2_non_converted = group2.loc[group2['is_buy'] == 0]['is_buy'].count()"
      ]
    },
    {
      "cell_type": "code",
      "execution_count": null,
      "id": "41093a7f-fd26-4c39-8d1c-0669a12bf8dd",
      "metadata": {
        "id": "41093a7f-fd26-4c39-8d1c-0669a12bf8dd"
      },
      "outputs": [],
      "source": [
        "contingency_table = np.array([[group1_converted, group1_non_converted],\n",
        "                             [group2_converted, group2_non_converted]])"
      ]
    },
    {
      "cell_type": "code",
      "execution_count": null,
      "id": "8936a9f4-369d-4d03-9305-317ccbd807c8",
      "metadata": {
        "id": "8936a9f4-369d-4d03-9305-317ccbd807c8",
        "outputId": "7c42c8a7-af0b-44a5-db46-44d8ddd0a6de"
      },
      "outputs": [
        {
          "name": "stdout",
          "output_type": "stream",
          "text": [
            "[[ 5199  9826]\n",
            " [ 4357 10667]]\n"
          ]
        }
      ],
      "source": [
        "contingency_table"
      ]
    },
    {
      "cell_type": "code",
      "execution_count": null,
      "id": "f071be77-6d50-456c-a7c0-b0870b7d41f4",
      "metadata": {
        "id": "f071be77-6d50-456c-a7c0-b0870b7d41f4"
      },
      "outputs": [],
      "source": [
        "# 3. Apply the Chi-Square test\n",
        "result = chi2.cdf(contingency_table[0, 0], 1)  # 1 degree of freedom\n",
        "p_value = 1 - result  # One-sided p-value"
      ]
    },
    {
      "cell_type": "code",
      "execution_count": null,
      "id": "9a7b086d-7ca4-413a-a87c-6d4e6d0fb67b",
      "metadata": {
        "id": "9a7b086d-7ca4-413a-a87c-6d4e6d0fb67b",
        "outputId": "1dbf8796-259d-4028-ac81-886b97ed84c0"
      },
      "outputs": [
        {
          "name": "stdout",
          "output_type": "stream",
          "text": [
            "One-Sided Chi-Square Statistic: 5199.00\n",
            "p-value: 0.0000\n"
          ]
        }
      ],
      "source": [
        "# 4. Interpret the results\n",
        "print(f\"One-Sided Chi-Square Statistic: {contingency_table[0, 0]:.2f}\")\n",
        "print(f\"p-value: {p_value:.4f}\")"
      ]
    },
    {
      "cell_type": "code",
      "execution_count": null,
      "id": "0dd17cd5-afb5-4d64-a4b3-ac1e1f5bc800",
      "metadata": {
        "id": "0dd17cd5-afb5-4d64-a4b3-ac1e1f5bc800",
        "outputId": "79113c97-1932-4624-9867-e1a9aaf7bbe1"
      },
      "outputs": [
        {
          "name": "stdout",
          "output_type": "stream",
          "text": [
            "The conversion rate for Screen A is greater than the conversion rate for Screen B.\n"
          ]
        }
      ],
      "source": [
        "# 5. Determine statistical significance\n",
        "significance_level = 0.05\n",
        "if p_value < significance_level:\n",
        "    print(\"The conversion rate for Screen A is greater than the conversion rate for Screen B.\")\n",
        "else:\n",
        "    print(\"The conversion rate for Screen A is not greater than the conversion rate for Screen B.\")"
      ]
    },
    {
      "cell_type": "markdown",
      "id": "608cf369-a693-410a-b085-0e0d51fe0a7f",
      "metadata": {
        "id": "608cf369-a693-410a-b085-0e0d51fe0a7f"
      },
      "source": [
        "### Insights"
      ]
    },
    {
      "cell_type": "markdown",
      "id": "aa4a83d2-7dc3-4218-b1cd-300c62c4f8b3",
      "metadata": {
        "id": "aa4a83d2-7dc3-4218-b1cd-300c62c4f8b3"
      },
      "source": [
        "The conversion rate for Screen A is significantly greater than the conversion rate for Screen B.\n",
        "\n",
        "The data provides overwhelming evidence (p-value: 0.0000) to reject the null hypothesis (H0) and support the alternative hypothesis (H1).\n",
        "\n",
        "The difference in conversion rates between the two screens is highly statistically significant (One-Sided Chi-Square Statistic: 5199.00) and unlikely to have occurred by chance.\n",
        "\n",
        "Therefore, I would advise using screen A while keeping these considerations in mind:\n",
        "#### Consideration #1: Be aware of Practical Significance\n",
        "Now, it's time to be considerate. I'm going to calculate the effect size to quantify the magnitude of the difference between the 2 conversion rates, telling me how large the actual difference is, beyond the statistical significance."
      ]
    },
    {
      "cell_type": "code",
      "execution_count": null,
      "id": "008d6d1c-6ebd-40ac-9e04-bb4764e8e61c",
      "metadata": {
        "id": "008d6d1c-6ebd-40ac-9e04-bb4764e8e61c"
      },
      "outputs": [],
      "source": [
        "import scipy.stats as stats"
      ]
    },
    {
      "cell_type": "code",
      "execution_count": null,
      "id": "8bc854d1-ba39-45c2-a142-751803209c96",
      "metadata": {
        "id": "8bc854d1-ba39-45c2-a142-751803209c96",
        "outputId": "6e220466-6fdf-4671-d0e3-f02ecdc74747"
      },
      "outputs": [
        {
          "name": "stdout",
          "output_type": "stream",
          "text": [
            "Conversion rate for screen A: 34.60%\n",
            "Conversion rate for screen B: 29.00%\n"
          ]
        }
      ],
      "source": [
        "# Calculate conversion rate\n",
        "screen_a_converted = contingency_table[0, 0] / (contingency_table[0, 0] + contingency_table[0, 1])\n",
        "screen_b_converted = contingency_table[1, 0] / (contingency_table[1, 0] + contingency_table[1, 1])\n",
        "\n",
        "print(f\"Conversion rate for screen A: {screen_a_converted:.2%}\")\n",
        "print(f\"Conversion rate for screen B: {screen_b_converted:.2%}\")"
      ]
    },
    {
      "cell_type": "markdown",
      "id": "4a619d0e-f4f9-4d0e-9b7d-7dec9e3c1b8c",
      "metadata": {
        "id": "4a619d0e-f4f9-4d0e-9b7d-7dec9e3c1b8c"
      },
      "source": [
        "Effect size: 34.60% - 29.00% = 5.61%\n",
        "The 5.61 percentage point difference may or may not be practically significant, depending on the specific context and goals of the analysis. To be more specific, if the overall conversion rates are low, a 5.61 percentage point difference could be quite meaningful. But if the overall conversion rates are already high, a 5.61 percentage point difference may not translate to a significant real-world impact. In this case, from 29%-34.60% could be translated into being meaningful."
      ]
    },
    {
      "cell_type": "markdown",
      "id": "820ebb08-ca91-4b49-bd21-6726bbf4fc10",
      "metadata": {
        "id": "820ebb08-ca91-4b49-bd21-6726bbf4fc10"
      },
      "source": [
        "#### Consideration #2: Be aware of Downstream Metrics\n",
        "\n",
        "1. Identify potential downstream metrics:\n",
        "\n",
        "Think about what other important business metrics or KPIs could be impacted by the choice of screen design (screen A vs. screen B).\n",
        "\n",
        "Some examples could include:\n",
        "- Total revenue or sales\n",
        "- Customer lifetime value\n",
        "- Repeat purchase rate\n",
        "- Customer satisfaction\n",
        "- User engagement metrics (e.g., time on site, pages viewed)\n",
        "\n",
        "2. Analyze the downstream impact:\n",
        "- Examine how the choice of screen design (A vs. B) affects these downstream metrics, not just the immediate conversion rate.\n",
        "- For example, if screen A has a higher conversion rate but leads to lower customer satisfaction or repeat purchases, the overall business impact may not be as positive as the conversion rate alone suggests.\n",
        "- Look for any unexpected effects on the downstream metrics.\n",
        "\n",
        "3. Evaluate the full picture:\n",
        "- Don't rely solely on the conversion rate difference as the measure of success. Take a holistic view and consider the impact on the broader set of relevant metrics.\n",
        "- The goal should be to understand how the choice of screen design affects the entire customer journey and business performance, not just the initial conversion.\n",
        "\n",
        "4. Iterate\n",
        "- Use the insights from the downstream metric analysis to inform future iterations of the screen design or other product/marketing decisions.\n",
        "- Continuously monitor the key downstream metrics to ensure the chosen design is delivering the desired overall business impact."
      ]
    },
    {
      "cell_type": "markdown",
      "id": "1dbbc5cf-bc03-4c21-bb11-75b04a282bb3",
      "metadata": {
        "id": "1dbbc5cf-bc03-4c21-bb11-75b04a282bb3"
      },
      "source": [
        "#### Consideration #3:  Be aware of the local maximum\n",
        "\n",
        "Consider the test duration, which should not linger more than expected as there might be better options beyond screen A and B. Besides, there would be more campaigns coming."
      ]
    },
    {
      "cell_type": "code",
      "execution_count": null,
      "id": "07367745-f5e3-483e-87f6-7378217ba1a9",
      "metadata": {
        "id": "07367745-f5e3-483e-87f6-7378217ba1a9"
      },
      "outputs": [],
      "source": []
    }
  ],
  "metadata": {
    "kernelspec": {
      "display_name": "Python 3 (ipykernel)",
      "language": "python",
      "name": "python3"
    },
    "language_info": {
      "codemirror_mode": {
        "name": "ipython",
        "version": 3
      },
      "file_extension": ".py",
      "mimetype": "text/x-python",
      "name": "python",
      "nbconvert_exporter": "python",
      "pygments_lexer": "ipython3",
      "version": "3.10.6"
    },
    "colab": {
      "provenance": []
    }
  },
  "nbformat": 4,
  "nbformat_minor": 5
}